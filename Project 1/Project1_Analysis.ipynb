{
 "cells": [
  {
   "cell_type": "markdown",
   "id": "12db4871",
   "metadata": {},
   "source": [
    "## Analysis for Week 2: Mac Hand Data Project"
   ]
  },
  {
   "cell_type": "code",
   "execution_count": 12,
   "id": "ac1ec03a",
   "metadata": {},
   "outputs": [],
   "source": [
    "import pandas as pd\n",
    "import numpy as np\n",
    "import matplotlib.pyplot as plt\n",
    "\n",
    "def get_individual_and_hand_cols(df):\n",
    "    df = df.copy()\n",
    "    df['individual_id'] = df['subject_id'].str[:-2]\n",
    "    df['hand'] = df['subject_id'].str[-1]\n",
    "    return df\n",
    "\n",
    "def get_iqr(series):\n",
    "    return series.quantile(0.75) - series.quantile(0.25)"
   ]
  },
  {
   "cell_type": "code",
   "execution_count": null,
   "id": "7949513f",
   "metadata": {},
   "outputs": [],
   "source": []
  },
  {
   "cell_type": "code",
   "execution_count": 13,
   "id": "a3d60763",
   "metadata": {},
   "outputs": [
    {
     "data": {
      "text/html": [
       "<div>\n",
       "<style scoped>\n",
       "    .dataframe tbody tr th:only-of-type {\n",
       "        vertical-align: middle;\n",
       "    }\n",
       "\n",
       "    .dataframe tbody tr th {\n",
       "        vertical-align: top;\n",
       "    }\n",
       "\n",
       "    .dataframe thead th {\n",
       "        text-align: right;\n",
       "    }\n",
       "</style>\n",
       "<table border=\"1\" class=\"dataframe\">\n",
       "  <thead>\n",
       "    <tr style=\"text-align: right;\">\n",
       "      <th></th>\n",
       "      <th>subject_id</th>\n",
       "      <th>dominance</th>\n",
       "      <th>affected_side</th>\n",
       "      <th>age</th>\n",
       "      <th>sex</th>\n",
       "      <th>task1</th>\n",
       "      <th>total_score</th>\n",
       "    </tr>\n",
       "  </thead>\n",
       "  <tbody>\n",
       "    <tr>\n",
       "      <th>0</th>\n",
       "      <td>001H-L</td>\n",
       "      <td>0</td>\n",
       "      <td>0</td>\n",
       "      <td>52</td>\n",
       "      <td>0</td>\n",
       "      <td>5</td>\n",
       "      <td>97</td>\n",
       "    </tr>\n",
       "    <tr>\n",
       "      <th>1</th>\n",
       "      <td>001H-L</td>\n",
       "      <td>0</td>\n",
       "      <td>0</td>\n",
       "      <td>52</td>\n",
       "      <td>0</td>\n",
       "      <td>5</td>\n",
       "      <td>99</td>\n",
       "    </tr>\n",
       "    <tr>\n",
       "      <th>2</th>\n",
       "      <td>001H-R</td>\n",
       "      <td>0</td>\n",
       "      <td>0</td>\n",
       "      <td>52</td>\n",
       "      <td>0</td>\n",
       "      <td>4</td>\n",
       "      <td>82</td>\n",
       "    </tr>\n",
       "    <tr>\n",
       "      <th>3</th>\n",
       "      <td>001H-R</td>\n",
       "      <td>0</td>\n",
       "      <td>0</td>\n",
       "      <td>52</td>\n",
       "      <td>0</td>\n",
       "      <td>4</td>\n",
       "      <td>80</td>\n",
       "    </tr>\n",
       "    <tr>\n",
       "      <th>4</th>\n",
       "      <td>002H-L</td>\n",
       "      <td>1</td>\n",
       "      <td>1</td>\n",
       "      <td>47</td>\n",
       "      <td>0</td>\n",
       "      <td>4</td>\n",
       "      <td>58</td>\n",
       "    </tr>\n",
       "    <tr>\n",
       "      <th>...</th>\n",
       "      <td>...</td>\n",
       "      <td>...</td>\n",
       "      <td>...</td>\n",
       "      <td>...</td>\n",
       "      <td>...</td>\n",
       "      <td>...</td>\n",
       "      <td>...</td>\n",
       "    </tr>\n",
       "    <tr>\n",
       "      <th>194</th>\n",
       "      <td>042N-L</td>\n",
       "      <td>0</td>\n",
       "      <td>1</td>\n",
       "      <td>31</td>\n",
       "      <td>0</td>\n",
       "      <td>4</td>\n",
       "      <td>89</td>\n",
       "    </tr>\n",
       "    <tr>\n",
       "      <th>195</th>\n",
       "      <td>042N-L</td>\n",
       "      <td>0</td>\n",
       "      <td>1</td>\n",
       "      <td>31</td>\n",
       "      <td>0</td>\n",
       "      <td>4</td>\n",
       "      <td>88</td>\n",
       "    </tr>\n",
       "    <tr>\n",
       "      <th>196</th>\n",
       "      <td>042N-L</td>\n",
       "      <td>0</td>\n",
       "      <td>1</td>\n",
       "      <td>31</td>\n",
       "      <td>0</td>\n",
       "      <td>4</td>\n",
       "      <td>89</td>\n",
       "    </tr>\n",
       "    <tr>\n",
       "      <th>197</th>\n",
       "      <td>042N-R</td>\n",
       "      <td>0</td>\n",
       "      <td>1</td>\n",
       "      <td>31</td>\n",
       "      <td>0</td>\n",
       "      <td>5</td>\n",
       "      <td>99</td>\n",
       "    </tr>\n",
       "    <tr>\n",
       "      <th>198</th>\n",
       "      <td>042N-R</td>\n",
       "      <td>0</td>\n",
       "      <td>1</td>\n",
       "      <td>31</td>\n",
       "      <td>0</td>\n",
       "      <td>5</td>\n",
       "      <td>100</td>\n",
       "    </tr>\n",
       "  </tbody>\n",
       "</table>\n",
       "<p>199 rows × 7 columns</p>\n",
       "</div>"
      ],
      "text/plain": [
       "    subject_id  dominance  affected_side  age  sex  task1  total_score\n",
       "0       001H-L          0              0   52    0      5           97\n",
       "1       001H-L          0              0   52    0      5           99\n",
       "2       001H-R          0              0   52    0      4           82\n",
       "3       001H-R          0              0   52    0      4           80\n",
       "4       002H-L          1              1   47    0      4           58\n",
       "..         ...        ...            ...  ...  ...    ...          ...\n",
       "194     042N-L          0              1   31    0      4           89\n",
       "195     042N-L          0              1   31    0      4           88\n",
       "196     042N-L          0              1   31    0      4           89\n",
       "197     042N-R          0              1   31    0      5           99\n",
       "198     042N-R          0              1   31    0      5          100\n",
       "\n",
       "[199 rows x 7 columns]"
      ]
     },
     "execution_count": 13,
     "metadata": {},
     "output_type": "execute_result"
    }
   ],
   "source": [
    "#Importing data\n",
    "data = pd.read_csv('./Data/MacHandData.csv')\n",
    "\n",
    "#Cleaning Dataframe\n",
    "data.columns = data.columns.str.lower().str.replace(' ', '_')\n",
    "data"
   ]
  },
  {
   "cell_type": "markdown",
   "id": "6f8d314d",
   "metadata": {},
   "source": [
    "### Summary statistics by individual\n",
    "\n",
    "Gets number of trials for each participant, per hand."
   ]
  },
  {
   "cell_type": "code",
   "execution_count": 14,
   "id": "2b34b843",
   "metadata": {},
   "outputs": [
    {
     "data": {
      "text/html": [
       "<div>\n",
       "<style scoped>\n",
       "    .dataframe tbody tr th:only-of-type {\n",
       "        vertical-align: middle;\n",
       "    }\n",
       "\n",
       "    .dataframe tbody tr th {\n",
       "        vertical-align: top;\n",
       "    }\n",
       "\n",
       "    .dataframe thead th {\n",
       "        text-align: right;\n",
       "    }\n",
       "</style>\n",
       "<table border=\"1\" class=\"dataframe\">\n",
       "  <thead>\n",
       "    <tr style=\"text-align: right;\">\n",
       "      <th></th>\n",
       "      <th>individual_id</th>\n",
       "      <th>hand</th>\n",
       "      <th>counts</th>\n",
       "    </tr>\n",
       "  </thead>\n",
       "  <tbody>\n",
       "    <tr>\n",
       "      <th>0</th>\n",
       "      <td>001H</td>\n",
       "      <td>L</td>\n",
       "      <td>2</td>\n",
       "    </tr>\n",
       "    <tr>\n",
       "      <th>1</th>\n",
       "      <td>001H</td>\n",
       "      <td>R</td>\n",
       "      <td>2</td>\n",
       "    </tr>\n",
       "    <tr>\n",
       "      <th>2</th>\n",
       "      <td>002H</td>\n",
       "      <td>L</td>\n",
       "      <td>2</td>\n",
       "    </tr>\n",
       "    <tr>\n",
       "      <th>3</th>\n",
       "      <td>002H</td>\n",
       "      <td>R</td>\n",
       "      <td>2</td>\n",
       "    </tr>\n",
       "    <tr>\n",
       "      <th>4</th>\n",
       "      <td>003H</td>\n",
       "      <td>L</td>\n",
       "      <td>3</td>\n",
       "    </tr>\n",
       "    <tr>\n",
       "      <th>...</th>\n",
       "      <td>...</td>\n",
       "      <td>...</td>\n",
       "      <td>...</td>\n",
       "    </tr>\n",
       "    <tr>\n",
       "      <th>79</th>\n",
       "      <td>040N</td>\n",
       "      <td>R</td>\n",
       "      <td>2</td>\n",
       "    </tr>\n",
       "    <tr>\n",
       "      <th>80</th>\n",
       "      <td>041N</td>\n",
       "      <td>L</td>\n",
       "      <td>3</td>\n",
       "    </tr>\n",
       "    <tr>\n",
       "      <th>81</th>\n",
       "      <td>041N</td>\n",
       "      <td>R</td>\n",
       "      <td>2</td>\n",
       "    </tr>\n",
       "    <tr>\n",
       "      <th>82</th>\n",
       "      <td>042N</td>\n",
       "      <td>L</td>\n",
       "      <td>3</td>\n",
       "    </tr>\n",
       "    <tr>\n",
       "      <th>83</th>\n",
       "      <td>042N</td>\n",
       "      <td>R</td>\n",
       "      <td>2</td>\n",
       "    </tr>\n",
       "  </tbody>\n",
       "</table>\n",
       "<p>84 rows × 3 columns</p>\n",
       "</div>"
      ],
      "text/plain": [
       "   individual_id hand  counts\n",
       "0           001H    L       2\n",
       "1           001H    R       2\n",
       "2           002H    L       2\n",
       "3           002H    R       2\n",
       "4           003H    L       3\n",
       "..           ...  ...     ...\n",
       "79          040N    R       2\n",
       "80          041N    L       3\n",
       "81          041N    R       2\n",
       "82          042N    L       3\n",
       "83          042N    R       2\n",
       "\n",
       "[84 rows x 3 columns]"
      ]
     },
     "execution_count": 14,
     "metadata": {},
     "output_type": "execute_result"
    }
   ],
   "source": [
    "trial_counts_df = get_individual_and_hand_cols(data)\\\n",
    "    .groupby(['individual_id', 'hand'])\\\n",
    "    .size()\\\n",
    "    .reset_index(name='counts')\n",
    "\n",
    "trial_counts_df"
   ]
  },
  {
   "cell_type": "markdown",
   "id": "c242281c",
   "metadata": {},
   "source": [
    "We see below that all participants perform the task at least once with both hands."
   ]
  },
  {
   "cell_type": "code",
   "execution_count": 15,
   "id": "37db9e5b",
   "metadata": {},
   "outputs": [
    {
     "data": {
      "text/plain": [
       "individual_id    0\n",
       "num_hands        0\n",
       "dtype: int64"
      ]
     },
     "execution_count": 15,
     "metadata": {},
     "output_type": "execute_result"
    }
   ],
   "source": [
    "trial_counts_summary = trial_counts_df.groupby('individual_id').size().reset_index(name='num_hands')\n",
    "filtered_counts = trial_counts_summary[trial_counts_summary['num_hands'] != 2]\n",
    "\n",
    "filtered_counts.count()"
   ]
  },
  {
   "cell_type": "markdown",
   "id": "d1921646",
   "metadata": {},
   "source": [
    "Descriptive stats on task completion:"
   ]
  },
  {
   "cell_type": "code",
   "execution_count": 16,
   "id": "bac06d08",
   "metadata": {},
   "outputs": [
    {
     "ename": "NameError",
     "evalue": "name 'df2' is not defined",
     "output_type": "error",
     "traceback": [
      "\u001b[31m---------------------------------------------------------------------------\u001b[39m",
      "\u001b[31mNameError\u001b[39m                                 Traceback (most recent call last)",
      "\u001b[36mCell\u001b[39m\u001b[36m \u001b[39m\u001b[32mIn[16]\u001b[39m\u001b[32m, line 1\u001b[39m\n\u001b[32m----> \u001b[39m\u001b[32m1\u001b[39m df_right = \u001b[43mdf2\u001b[49m[df2[\u001b[33m'\u001b[39m\u001b[33mhand\u001b[39m\u001b[33m'\u001b[39m] == \u001b[33m'\u001b[39m\u001b[33mR\u001b[39m\u001b[33m'\u001b[39m]\n\u001b[32m      2\u001b[39m df_left = df2[df2[\u001b[33m'\u001b[39m\u001b[33mhand\u001b[39m\u001b[33m'\u001b[39m] == \u001b[33m'\u001b[39m\u001b[33mL\u001b[39m\u001b[33m'\u001b[39m]\n\u001b[32m      5\u001b[39m \u001b[38;5;28mprint\u001b[39m(\u001b[33mf\u001b[39m\u001b[33m'\u001b[39m\u001b[33mParticipants perform the task with their right hand a median of \u001b[39m\u001b[38;5;132;01m{\u001b[39;00mdf_right[\u001b[33m\"\u001b[39m\u001b[33mcounts\u001b[39m\u001b[33m\"\u001b[39m].median()\u001b[38;5;132;01m}\u001b[39;00m\u001b[33m times, with an IQR of \u001b[39m\u001b[38;5;132;01m{\u001b[39;00mget_iqr(df_right[\u001b[33m\"\u001b[39m\u001b[33mcounts\u001b[39m\u001b[33m\"\u001b[39m])\u001b[38;5;132;01m}\u001b[39;00m\u001b[33m times.\u001b[39m\u001b[33m'\u001b[39m)\n",
      "\u001b[31mNameError\u001b[39m: name 'df2' is not defined"
     ]
    }
   ],
   "source": [
    "\n",
    "df_right = df2[df2['hand'] == 'R']\n",
    "df_left = df2[df2['hand'] == 'L']\n",
    "\n",
    "\n",
    "print(f'Participants perform the task with their right hand a median of {df_right[\"counts\"].median()} times, with an IQR of {get_iqr(df_right[\"counts\"])} times.')\n",
    "print(f'Participants perform the task with their left hand a median of {df_left[\"counts\"].median()} times, with an IQR of {get_iqr(df_left[\"counts\"])} times.')"
   ]
  },
  {
   "cell_type": "markdown",
   "id": "19aa700c",
   "metadata": {},
   "source": [
    "### Descriptive stats on dominance and affected side\n",
    "\n",
    "Reported stats are on the level of the individual, not on the level of the trial. This is important since different individuals sometimes perform different numbers of trials."
   ]
  },
  {
   "cell_type": "code",
   "execution_count": null,
   "id": "db934b2c",
   "metadata": {},
   "outputs": [
    {
     "data": {
      "text/html": [
       "<div>\n",
       "<style scoped>\n",
       "    .dataframe tbody tr th:only-of-type {\n",
       "        vertical-align: middle;\n",
       "    }\n",
       "\n",
       "    .dataframe tbody tr th {\n",
       "        vertical-align: top;\n",
       "    }\n",
       "\n",
       "    .dataframe thead th {\n",
       "        text-align: right;\n",
       "    }\n",
       "</style>\n",
       "<table border=\"1\" class=\"dataframe\">\n",
       "  <thead>\n",
       "    <tr style=\"text-align: right;\">\n",
       "      <th></th>\n",
       "      <th>affected_side_dominance</th>\n",
       "      <th>count</th>\n",
       "      <th>proportion</th>\n",
       "    </tr>\n",
       "  </thead>\n",
       "  <tbody>\n",
       "    <tr>\n",
       "      <th>0</th>\n",
       "      <td>Both Affected</td>\n",
       "      <td>1</td>\n",
       "      <td>0.02381</td>\n",
       "    </tr>\n",
       "    <tr>\n",
       "      <th>1</th>\n",
       "      <td>Dominant</td>\n",
       "      <td>20</td>\n",
       "      <td>0.47619</td>\n",
       "    </tr>\n",
       "    <tr>\n",
       "      <th>2</th>\n",
       "      <td>Non-dominant</td>\n",
       "      <td>21</td>\n",
       "      <td>0.50000</td>\n",
       "    </tr>\n",
       "  </tbody>\n",
       "</table>\n",
       "</div>"
      ],
      "text/plain": [
       "  affected_side_dominance  count  proportion\n",
       "0           Both Affected      1     0.02381\n",
       "1                Dominant     20     0.47619\n",
       "2            Non-dominant     21     0.50000"
      ]
     },
     "execution_count": 96,
     "metadata": {},
     "output_type": "execute_result"
    }
   ],
   "source": [
    "das_by_individual = get_individual_and_hand_cols(data)\\\n",
    "    .groupby(['individual_id'])\\\n",
    "    .agg({'dominance': 'first', 'affected_side': 'first'})\\\n",
    "    .reset_index()\n",
    "\n",
    "df = das_by_individual.groupby(['dominance', 'affected_side'])\\\n",
    "    .agg({'individual_id': 'count'})\\\n",
    "    .rename(columns={'individual_id': 'count'})\\\n",
    "    .reset_index()\n",
    "\n",
    "df['proportion'] = df['count'] / df['count'].sum()\n",
    "\n",
    "df_labelled = df\n",
    "df_labelled.columns\n",
    "\n",
    "df_labelled['dominance'] = df_labelled['dominance'].map(lambda x: 'Right' if x == 0 else 'Left')\n",
    "df_labelled['affected_side'] = df_labelled['affected_side'].map(lambda x: 'Right' if x == 0 else ('Left' if x == 1 else 'Both'))\n",
    "\n",
    "df_labelled\n",
    "\n",
    "df_summary = df_labelled\n",
    "\n",
    "df_summary['affected_side_dominance'] = df_summary.apply(lambda row: 'Dominant' if row['dominance'] == row['affected_side']\\\n",
    "            else ('Both Affected' if row['affected_side'] == 'Both' else 'Non-dominant'), axis=1)\n",
    "\n",
    "df_summary = df_summary.groupby('affected_side_dominance').agg({'count': 'sum', 'proportion': 'sum'}).reset_index()\n",
    "df_summary\n"
   ]
  },
  {
   "cell_type": "markdown",
   "id": "5bc2eca3",
   "metadata": {},
   "source": [
    "There are 20 participants whose dominant hand was affected, 21 participants whose non-dominant hand was affected, and one participant for whom both hands were affected by traumatic injury."
   ]
  },
  {
   "cell_type": "code",
   "execution_count": null,
   "id": "42f7588c",
   "metadata": {},
   "outputs": [],
   "source": []
  },
  {
   "cell_type": "code",
   "execution_count": null,
   "id": "c7b66083",
   "metadata": {},
   "outputs": [
    {
     "name": "stdout",
     "output_type": "stream",
     "text": [
      "50.0\n"
     ]
    },
    {
     "data": {
      "text/plain": [
       "<Axes: >"
      ]
     },
     "execution_count": 24,
     "metadata": {},
     "output_type": "execute_result"
    },
    {
     "data": {
      "image/png": "[encoded data removed]",
      "text/plain": [
       "<Figure size 640x480 with 1 Axes>"
      ]
     },
     "metadata": {},
     "output_type": "display_data"
    }
   ],
   "source": [
    "ages = get_individual_and_hand_cols(data)\\\n",
    "    .groupby('individual_id').agg({'age': 'first'}).reset_index()\n",
    "median_age = ages['age'].median()\n",
    "print(median_age)\n",
    "\n",
    "ages['age'].hist()"
   ]
  },
  {
   "cell_type": "code",
   "execution_count": null,
   "id": "f6a0b7f4",
   "metadata": {},
   "outputs": [
    {
     "name": "stdout",
     "output_type": "stream",
     "text": [
      "     individual_id\n",
      "sex               \n",
      "0               26\n",
      "1               16\n"
     ]
    }
   ],
   "source": [
    "sexes = get_individual_and_hand_cols(data)\\\n",
    "    .groupby('individual_id').agg({'sex': 'first'}).reset_index()\n",
    "pivot = sexes.pivot_table(index=['sex'],\n",
    "                       values=['sex'],\n",
    "                       aggfunc='count')\n",
    "print(pivot)"
   ]
  },
  {
   "cell_type": "code",
   "execution_count": 27,
   "id": "5f573e64",
   "metadata": {},
   "outputs": [
    {
     "name": "stdout",
     "output_type": "stream",
     "text": [
      "<bound method DataFrame.reset_index of                         total_score           \n",
      "                               mean        std\n",
      "dominance affected_side                       \n",
      "0         0               89.152941  11.190457\n",
      "          1               81.752809  21.390461\n",
      "1         0               88.000000   8.923284\n",
      "          1               76.000000  19.131126>\n"
     ]
    }
   ],
   "source": [
    "total_scores = get_individual_and_hand_cols(data)\\\n",
    "    .query('total_score<=100')\\\n",
    "    .groupby(['dominance', 'affected_side'])\\\n",
    "    .agg({'total_score': ['mean', 'std']}).reset_index\n",
    "print(total_scores)"
   ]
  }
 ],
 "metadata": {
  "kernelspec": {
   "display_name": "Python 3",
   "language": "python",
   "name": "python3"
  },
  "language_info": {
   "codemirror_mode": {
    "name": "ipython",
    "version": 3
   },
   "file_extension": ".py",
   "mimetype": "text/x-python",
   "name": "python",
   "nbconvert_exporter": "python",
   "pygments_lexer": "ipython3",
   "version": "3.11.4"
  }
 },
 "nbformat": 4,
 "nbformat_minor": 5
}
