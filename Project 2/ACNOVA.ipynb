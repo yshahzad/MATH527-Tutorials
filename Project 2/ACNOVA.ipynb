{
 "cells": [
  {
   "cell_type": "code",
   "execution_count": 1,
   "id": "c8644733",
   "metadata": {},
   "outputs": [
    {
     "name": "stdout",
     "output_type": "stream",
     "text": [
      "                            OLS Regression Results                            \n",
      "==============================================================================\n",
      "Dep. Variable:                   Gain   R-squared:                       0.032\n",
      "Model:                            OLS   Adj. R-squared:                  0.027\n",
      "Method:                 Least Squares   F-statistic:                     5.876\n",
      "Date:                Mon, 22 Sep 2025   Prob (F-statistic):             0.0163\n",
      "Time:                        16:01:48   Log-Likelihood:                -177.28\n",
      "No. Observations:                 180   AIC:                             358.6\n",
      "Df Residuals:                     178   BIC:                             364.9\n",
      "Df Model:                           1                                         \n",
      "Covariance Type:            nonrobust                                         \n",
      "======================================================================================\n",
      "                         coef    std err          t      P>|t|      [0.025      0.975]\n",
      "--------------------------------------------------------------------------------------\n",
      "Intercept             -0.2801      0.069     -4.079      0.000      -0.416      -0.145\n",
      "Group[T.Treatment]    -0.2354      0.097     -2.424      0.016      -0.427      -0.044\n",
      "==============================================================================\n",
      "Omnibus:                        1.314   Durbin-Watson:                   1.906\n",
      "Prob(Omnibus):                  0.518   Jarque-Bera (JB):                1.362\n",
      "Skew:                           0.201   Prob(JB):                        0.506\n",
      "Kurtosis:                       2.857   Cond. No.                         2.62\n",
      "==============================================================================\n",
      "\n",
      "Notes:\n",
      "[1] Standard Errors assume that the covariance matrix of the errors is correctly specified.\n"
     ]
    }
   ],
   "source": [
    "import pandas as pd\n",
    "import statsmodels.api as sm\n",
    "import statsmodels.formula.api as smf\n",
    "\n",
    "# Load your data (assuming CSV)\n",
    "df = pd.read_csv(\"Data/EdemaData.csv\")\n",
    "\n",
    "# Gain score t-test (optional)\n",
    "df[\"Gain\"] = df[\"Edema_Post\"] - df[\"Edema_Pre\"]\n",
    "gain_model = smf.ols(\"Gain ~ Group\", data=df).fit()\n",
    "print(gain_model.summary())"
   ]
  },
  {
   "cell_type": "code",
   "execution_count": 2,
   "id": "71620c7f",
   "metadata": {},
   "outputs": [
    {
     "name": "stdout",
     "output_type": "stream",
     "text": [
      "                     sum_sq     df           F        PR(>F)\n",
      "Group              2.637351    1.0    6.428646  1.209996e-02\n",
      "Edema_Pre        282.590593    1.0  688.825597  9.610786e-63\n",
      "Group:Edema_Pre    0.454707    1.0    1.108366  2.938806e-01\n",
      "Residual          72.203972  176.0         NaN           NaN\n"
     ]
    }
   ],
   "source": [
    "ancova_model = smf.ols(\"Edema_Post ~ Group + Edema_Pre + Group*Edema_Pre\", data=df).fit()\n",
    "print(sm.stats.anova_lm(ancova_model, typ=2))"
   ]
  },
  {
   "cell_type": "code",
   "execution_count": 4,
   "id": "85c43ef8",
   "metadata": {},
   "outputs": [
    {
     "name": "stdout",
     "output_type": "stream",
     "text": [
      "               sum_sq     df           F        PR(>F)\n",
      "Group        2.637351    1.0    6.424712  1.212083e-02\n",
      "Edema_Pre  282.590593    1.0  688.404129  6.732277e-63\n",
      "Residual    72.658679  177.0         NaN           NaN\n"
     ]
    }
   ],
   "source": [
    "ancova_model = smf.ols(\"Edema_Post ~ Group + Edema_Pre\", data=df).fit()\n",
    "print(sm.stats.anova_lm(ancova_model, typ=2))"
   ]
  },
  {
   "cell_type": "code",
   "execution_count": 5,
   "id": "b102b64b",
   "metadata": {},
   "outputs": [
    {
     "name": "stdout",
     "output_type": "stream",
     "text": [
      "                            OLS Regression Results                            \n",
      "==============================================================================\n",
      "Dep. Variable:             Edema_Post   R-squared:                       0.798\n",
      "Model:                            OLS   Adj. R-squared:                  0.796\n",
      "Method:                 Least Squares   F-statistic:                     349.4\n",
      "Date:                Mon, 22 Sep 2025   Prob (F-statistic):           3.47e-62\n",
      "Time:                        16:02:30   Log-Likelihood:                -173.76\n",
      "No. Observations:                 180   AIC:                             353.5\n",
      "Df Residuals:                     177   BIC:                             363.1\n",
      "Df Model:                           2                                         \n",
      "Covariance Type:            nonrobust                                         \n",
      "======================================================================================\n",
      "                         coef    std err          t      P>|t|      [0.025      0.975]\n",
      "--------------------------------------------------------------------------------------\n",
      "Intercept              0.5467      0.319      1.716      0.088      -0.082       1.176\n",
      "Group[T.Treatment]    -0.2422      0.096     -2.535      0.012      -0.431      -0.054\n",
      "Edema_Pre              0.9081      0.035     26.237      0.000       0.840       0.976\n",
      "==============================================================================\n",
      "Omnibus:                        1.537   Durbin-Watson:                   1.857\n",
      "Prob(Omnibus):                  0.464   Jarque-Bera (JB):                1.531\n",
      "Skew:                           0.146   Prob(JB):                        0.465\n",
      "Kurtosis:                       2.655   Cond. No.                         61.4\n",
      "==============================================================================\n",
      "\n",
      "Notes:\n",
      "[1] Standard Errors assume that the covariance matrix of the errors is correctly specified.\n"
     ]
    }
   ],
   "source": [
    "print(ancova_model.summary())"
   ]
  }
 ],
 "metadata": {
  "kernelspec": {
   "display_name": "Python 3",
   "language": "python",
   "name": "python3"
  },
  "language_info": {
   "codemirror_mode": {
    "name": "ipython",
    "version": 3
   },
   "file_extension": ".py",
   "mimetype": "text/x-python",
   "name": "python",
   "nbconvert_exporter": "python",
   "pygments_lexer": "ipython3",
   "version": "3.11.4"
  }
 },
 "nbformat": 4,
 "nbformat_minor": 5
}
